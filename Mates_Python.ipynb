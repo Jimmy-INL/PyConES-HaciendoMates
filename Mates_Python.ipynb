{
 "cells": [
  {
   "cell_type": "markdown",
   "metadata": {},
   "source": [
    "# ¡ Haciendo mates con Python ! "
   ]
  },
  {
   "cell_type": "markdown",
   "metadata": {},
   "source": [
    "** Carlos Planelles-Alemany ** y ** Daniel Domene-López ** para [PyConES16](http://2016.es.pycon.org/) - Almería -- ** [15 min] **"
   ]
  },
  {
   "cell_type": "markdown",
   "metadata": {},
   "source": [
    "## 0. Índice\n",
    "\n",
    "> 1. Introducción.\n",
    "> 2. Mi tabla de multiplicar. \n",
    "> 3. Cambio de unidades.. \n",
    "> 4. Resolviendo ecuaciones con Python. \n",
    "> 5. Caso práctico 1: Resolviendo la ecuación del calor con Pyomo. \n",
    "> 6. Caso práctico 2: Resolviendo la ecuación de ondas con Pyomo. "
   ]
  },
  {
   "cell_type": "markdown",
   "metadata": {},
   "source": [
    "## 1. Introducción"
   ]
  },
  {
   "cell_type": "markdown",
   "metadata": {},
   "source": [
    "Las ** matemáticas ** en si mismas se han convertido en la herrameinta fundamental en cualquier área de conocimiento relacionada con las ciencias puras, ingenierías, ciencias sociales... Pero también lo son en la vida cotidiana. \n",
    "Participamos de ellas cuando compramos una barra de pan o cuando planificamos eventos u otras actividades. "
   ]
  },
  {
   "cell_type": "markdown",
   "metadata": {},
   "source": [
    "Por este motivo es interesante pensar que podamos utilizar lenguajes de programación para resolver problemas de una manera sencilla y sistemática, como veremos a continuación. "
   ]
  },
  {
   "cell_type": "markdown",
   "metadata": {},
   "source": [
    "Cuando hablamos de matemáticas es inevitable pensar en números. Números que dependiendo del programa que estemos desarrollando deberán tener unas características u otras. Python distingue principalmente entre números enteros y números de punto flotante. Los primeros no contienen parte decimal, si bien si los segundos. Como se puede observar, Python los asocia con diferente tipología:"
   ]
  },
  {
   "cell_type": "code",
   "execution_count": 1,
   "metadata": {
    "collapsed": false
   },
   "outputs": [
    {
     "name": "stdout",
     "output_type": "stream",
     "text": [
      "Esto es un núemro entero:\n",
      "3\n"
     ]
    },
    {
     "data": {
      "text/plain": [
       "int"
      ]
     },
     "execution_count": 1,
     "metadata": {},
     "output_type": "execute_result"
    }
   ],
   "source": [
    "print 'Esto es un núemro entero:'\n",
    "print 3\n",
    "type(3)"
   ]
  },
  {
   "cell_type": "code",
   "execution_count": 2,
   "metadata": {
    "collapsed": false
   },
   "outputs": [
    {
     "name": "stdout",
     "output_type": "stream",
     "text": [
      "Esto es un número de punto flotante:\n",
      "3.0\n"
     ]
    },
    {
     "data": {
      "text/plain": [
       "float"
      ]
     },
     "execution_count": 2,
     "metadata": {},
     "output_type": "execute_result"
    }
   ],
   "source": [
    "print 'Esto es un número de punto flotante:'\n",
    "print 3.0\n",
    "type(3.0)"
   ]
  },
  {
   "cell_type": "markdown",
   "metadata": {},
   "source": [
    "Python permite el cambio automático entre el tipo de número:"
   ]
  },
  {
   "cell_type": "code",
   "execution_count": 3,
   "metadata": {
    "collapsed": false
   },
   "outputs": [
    {
     "name": "stdout",
     "output_type": "stream",
     "text": [
      " Valor de a =  2.0\n",
      " Valor de a entero =  2\n"
     ]
    }
   ],
   "source": [
    "a = 2.0 \n",
    "print ' Valor de a = ' , a \n",
    "b =  int(a)\n",
    "print ' Valor de a entero = ' , b "
   ]
  },
  {
   "cell_type": "markdown",
   "metadata": {},
   "source": [
    "Y viceversa:"
   ]
  },
  {
   "cell_type": "code",
   "execution_count": 4,
   "metadata": {
    "collapsed": false
   },
   "outputs": [
    {
     "name": "stdout",
     "output_type": "stream",
     "text": [
      " Valor de b =  2\n",
      " Valor de b flotante =  2.0\n"
     ]
    }
   ],
   "source": [
    "print ' Valor de b = ' , b \n",
    "a = float(b) \n",
    "print ' Valor de b flotante = ' , a "
   ]
  },
  {
   "cell_type": "markdown",
   "metadata": {},
   "source": [
    "Hay que llevar cuidado pues estos comandos pueden llevar a confusión. Solo se está cambiando la tipología del número, pero no se está haciendo un redondeo cuando utilizamos el comanto int. Veámoslo. "
   ]
  },
  {
   "cell_type": "code",
   "execution_count": 5,
   "metadata": {
    "collapsed": false
   },
   "outputs": [
    {
     "name": "stdout",
     "output_type": "stream",
     "text": [
      "Introduce un número:  1/10\n",
      " El número que has escogido es  0\n"
     ]
    }
   ],
   "source": [
    "try:\n",
    "    a = int ( input ( 'Introduce un número:  '))\n",
    "except NameError:\n",
    "    print( 'Has introducido un carácter no válido ')\n",
    "\n",
    "print ' El número que has escogido es ' , a "
   ]
  },
  {
   "cell_type": "markdown",
   "metadata": {},
   "source": [
    "Pero las matemáticas también son operaciones. Entre las operaciones básicas se encuentran la suma, sustracción, producto y división."
   ]
  },
  {
   "cell_type": "code",
   "execution_count": 6,
   "metadata": {
    "collapsed": false
   },
   "outputs": [
    {
     "name": "stdout",
     "output_type": "stream",
     "text": [
      " Esto es una suma: 2 + 2 =  4\n"
     ]
    }
   ],
   "source": [
    "print ' Esto es una suma: 2 + 2 = ' , 2 + 2 "
   ]
  },
  {
   "cell_type": "code",
   "execution_count": 7,
   "metadata": {
    "collapsed": false
   },
   "outputs": [
    {
     "name": "stdout",
     "output_type": "stream",
     "text": [
      " Esto es una resta: 235 - 23.0 =  212.0\n"
     ]
    }
   ],
   "source": [
    "print ' Esto es una resta: 235 - 23.0 = ' , 235 - 23.0 "
   ]
  },
  {
   "cell_type": "code",
   "execution_count": 8,
   "metadata": {
    "collapsed": false
   },
   "outputs": [
    {
     "name": "stdout",
     "output_type": "stream",
     "text": [
      " Esto es una multiplicación: 2.0 * 3 =  6.0\n"
     ]
    }
   ],
   "source": [
    " print ' Esto es una multiplicación: 2.0 * 3 = ' , 2.0 * 3  "
   ]
  },
  {
   "cell_type": "code",
   "execution_count": 9,
   "metadata": {
    "collapsed": false
   },
   "outputs": [
    {
     "name": "stdout",
     "output_type": "stream",
     "text": [
      " Esto es una división: 100 / 5 =  20\n"
     ]
    }
   ],
   "source": [
    "print ' Esto es una división: 100 / 5 = ' , 100 / 5  "
   ]
  },
  {
   "cell_type": "markdown",
   "metadata": {},
   "source": [
    "Python permite también trabajar con fracciones:"
   ]
  },
  {
   "cell_type": "code",
   "execution_count": 10,
   "metadata": {
    "collapsed": true
   },
   "outputs": [],
   "source": [
    "from fractions import Fraction "
   ]
  },
  {
   "cell_type": "code",
   "execution_count": 11,
   "metadata": {
    "collapsed": false
   },
   "outputs": [
    {
     "name": "stdout",
     "output_type": "stream",
     "text": [
      "3/4\n"
     ]
    }
   ],
   "source": [
    "fraccion = Fraction ( 3 , 4)\n",
    "print fraccion "
   ]
  },
  {
   "cell_type": "code",
   "execution_count": 12,
   "metadata": {
    "collapsed": false
   },
   "outputs": [
    {
     "name": "stdout",
     "output_type": "stream",
     "text": [
      "3/4 + 1 = 7/4\n"
     ]
    }
   ],
   "source": [
    "print fraccion , '+' , 1 , '=' , fraccion + 1 "
   ]
  },
  {
   "cell_type": "markdown",
   "metadata": {},
   "source": [
    "Pero si sumamos un número flotante obtendremos un número también flotante:"
   ]
  },
  {
   "cell_type": "code",
   "execution_count": 13,
   "metadata": {
    "collapsed": false
   },
   "outputs": [
    {
     "name": "stdout",
     "output_type": "stream",
     "text": [
      "3/4 + 1.0 = 1.75\n"
     ]
    }
   ],
   "source": [
    "print fraccion , '+', 1.0 , '=', fraccion + 1.0 "
   ]
  },
  {
   "cell_type": "markdown",
   "metadata": {},
   "source": [
    "Los números complejos también tienen lugar dentro de Python:"
   ]
  },
  {
   "cell_type": "code",
   "execution_count": 14,
   "metadata": {
    "collapsed": false
   },
   "outputs": [
    {
     "name": "stdout",
     "output_type": "stream",
     "text": [
      "(2+3j) <type 'complex'>\n"
     ]
    }
   ],
   "source": [
    "a = 2 + 3j \n",
    "print a , type (a) "
   ]
  },
  {
   "cell_type": "markdown",
   "metadata": {},
   "source": [
    "Llegados a este punto ya podemos comenzar a elaborar pequeñas funciones que nos sean de utilidad. Por ejemplo, si queremos saber si un número es factor de otro basta con dividir uno entre otro y comprobar si el resto es 0: "
   ]
  },
  {
   "cell_type": "code",
   "execution_count": 15,
   "metadata": {
    "collapsed": false
   },
   "outputs": [],
   "source": [
    "def factor ( a , b) : \n",
    "    \n",
    "    if b % a == 0 : \n",
    "        return True\n",
    "    else:\n",
    "        return False "
   ]
  },
  {
   "cell_type": "code",
   "execution_count": 16,
   "metadata": {
    "collapsed": false
   },
   "outputs": [
    {
     "data": {
      "text/plain": [
       "True"
      ]
     },
     "execution_count": 16,
     "metadata": {},
     "output_type": "execute_result"
    }
   ],
   "source": [
    "factor( 4 , 1024)"
   ]
  },
  {
   "cell_type": "code",
   "execution_count": 17,
   "metadata": {
    "collapsed": false
   },
   "outputs": [
    {
     "data": {
      "text/plain": [
       "False"
      ]
     },
     "execution_count": 17,
     "metadata": {},
     "output_type": "execute_result"
    }
   ],
   "source": [
    "factor( 3 , 1000 )"
   ]
  },
  {
   "cell_type": "markdown",
   "metadata": {},
   "source": [
    "Incluso puede que estemos interesados en conocer cuáles son los factores de un número cualquiera:"
   ]
  },
  {
   "cell_type": "code",
   "execution_count": 18,
   "metadata": {
    "collapsed": true
   },
   "outputs": [],
   "source": [
    "def factor (b):\n",
    "    \n",
    "    for i in range ( 1 , b + 1):\n",
    "        \n",
    "        if b % i == 0: \n",
    "            \n",
    "            print(i) "
   ]
  },
  {
   "cell_type": "code",
   "execution_count": 19,
   "metadata": {
    "collapsed": false
   },
   "outputs": [
    {
     "name": "stdout",
     "output_type": "stream",
     "text": [
      "1\n",
      "2\n",
      "4\n",
      "5\n",
      "10\n",
      "20\n",
      "25\n",
      "50\n",
      "100\n"
     ]
    }
   ],
   "source": [
    "factor ( 100 )"
   ]
  },
  {
   "cell_type": "markdown",
   "metadata": {},
   "source": [
    "Nótese que en este caso solo podemos introducir números enteros y positivos si queremos que el programa funcione correctamente:"
   ]
  },
  {
   "cell_type": "code",
   "execution_count": 20,
   "metadata": {
    "collapsed": false
   },
   "outputs": [
    {
     "ename": "TypeError",
     "evalue": "range() integer end argument expected, got float.",
     "output_type": "error",
     "traceback": [
      "\u001b[1;31m---------------------------------------------------------------------------\u001b[0m",
      "\u001b[1;31mTypeError\u001b[0m                                 Traceback (most recent call last)",
      "\u001b[1;32m<ipython-input-20-e04d3d633b3b>\u001b[0m in \u001b[0;36m<module>\u001b[1;34m()\u001b[0m\n\u001b[1;32m----> 1\u001b[1;33m \u001b[0mfactor\u001b[0m \u001b[1;33m(\u001b[0m \u001b[1;36m100.0\u001b[0m \u001b[1;33m)\u001b[0m\u001b[1;33m\u001b[0m\u001b[0m\n\u001b[0m",
      "\u001b[1;32m<ipython-input-18-3f2cd5d60665>\u001b[0m in \u001b[0;36mfactor\u001b[1;34m(b)\u001b[0m\n\u001b[0;32m      1\u001b[0m \u001b[1;32mdef\u001b[0m \u001b[0mfactor\u001b[0m \u001b[1;33m(\u001b[0m\u001b[0mb\u001b[0m\u001b[1;33m)\u001b[0m\u001b[1;33m:\u001b[0m\u001b[1;33m\u001b[0m\u001b[0m\n\u001b[0;32m      2\u001b[0m \u001b[1;33m\u001b[0m\u001b[0m\n\u001b[1;32m----> 3\u001b[1;33m     \u001b[1;32mfor\u001b[0m \u001b[0mi\u001b[0m \u001b[1;32min\u001b[0m \u001b[0mrange\u001b[0m \u001b[1;33m(\u001b[0m \u001b[1;36m1\u001b[0m \u001b[1;33m,\u001b[0m \u001b[0mb\u001b[0m \u001b[1;33m+\u001b[0m \u001b[1;36m1\u001b[0m\u001b[1;33m)\u001b[0m\u001b[1;33m:\u001b[0m\u001b[1;33m\u001b[0m\u001b[0m\n\u001b[0m\u001b[0;32m      4\u001b[0m \u001b[1;33m\u001b[0m\u001b[0m\n\u001b[0;32m      5\u001b[0m         \u001b[1;32mif\u001b[0m \u001b[0mb\u001b[0m \u001b[1;33m%\u001b[0m \u001b[0mi\u001b[0m \u001b[1;33m==\u001b[0m \u001b[1;36m0\u001b[0m\u001b[1;33m:\u001b[0m\u001b[1;33m\u001b[0m\u001b[0m\n",
      "\u001b[1;31mTypeError\u001b[0m: range() integer end argument expected, got float."
     ]
    }
   ],
   "source": [
    "factor ( 100.0 )"
   ]
  },
  {
   "cell_type": "markdown",
   "metadata": {},
   "source": [
    "Para solucionarlo podemos adaptar nuestro código:"
   ]
  },
  {
   "cell_type": "code",
   "execution_count": 21,
   "metadata": {
    "collapsed": false
   },
   "outputs": [
    {
     "name": "stdout",
     "output_type": "stream",
     "text": [
      " Introduce un número para conocer sus factores: 100.0\n",
      "1\n",
      "2\n",
      "4\n",
      "5\n",
      "10\n",
      "20\n",
      "25\n",
      "50\n",
      "100\n"
     ]
    }
   ],
   "source": [
    "def factor_v2 (b) :\n",
    "    \n",
    "    for i in range ( 1 , b + 1 ) : \n",
    "        \n",
    "        if b % i == 0: \n",
    "            \n",
    "            print(i) \n",
    "        \n",
    "if __name__ == '__main__': \n",
    "    b = input (' Introduce un número para conocer sus factores: ')\n",
    "    b = float (b) \n",
    "    \n",
    "    if b > 0 and b.is_integer(): \n",
    "        factor( int(b) )\n",
    "        \n",
    "    else:\n",
    "        print 'Introduce un entero positivo, por favor '"
   ]
  },
  {
   "cell_type": "markdown",
   "metadata": {},
   "source": [
    "## 2. Mi tabla de multiplicar. "
   ]
  },
  {
   "cell_type": "markdown",
   "metadata": {},
   "source": [
    "*Ejemplo extraído del libro: \"Doing Math with Python - Amit Saha*"
   ]
  },
  {
   "cell_type": "markdown",
   "metadata": {},
   "source": [
    "Podemos elaborar programas más complejos que nos ayuden, por ejemplo, a reproducir automáticamente cualquier tabla de multiplicar: "
   ]
  },
  {
   "cell_type": "code",
   "execution_count": 22,
   "metadata": {
    "collapsed": true
   },
   "outputs": [],
   "source": [
    "def multi_table( a , b ):\n",
    "    \n",
    "    for i in range( 1 , b +1 ):\n",
    "        \n",
    "        c = a * i \n",
    "        \n",
    "        print c "
   ]
  },
  {
   "cell_type": "code",
   "execution_count": 23,
   "metadata": {
    "collapsed": false
   },
   "outputs": [
    {
     "name": "stdout",
     "output_type": "stream",
     "text": [
      "1\n",
      "2\n",
      "3\n",
      "4\n",
      "5\n",
      "6\n",
      "7\n",
      "8\n",
      "9\n",
      "10\n"
     ]
    }
   ],
   "source": [
    "multi_table( 1 , 10 )"
   ]
  },
  {
   "cell_type": "code",
   "execution_count": 24,
   "metadata": {
    "collapsed": false
   },
   "outputs": [],
   "source": [
    "def multi_table_v2( a , b ): \n",
    "    \n",
    "    for i in range( 1 , b + 1 ):\n",
    "        \n",
    "        c = a * i \n",
    "        \n",
    "        print '{0} x {1} = {2}' . format( a , i , c)"
   ]
  },
  {
   "cell_type": "code",
   "execution_count": 25,
   "metadata": {
    "collapsed": false
   },
   "outputs": [
    {
     "name": "stdout",
     "output_type": "stream",
     "text": [
      "1 x 1 = 1\n",
      "1 x 2 = 2\n",
      "1 x 3 = 3\n",
      "1 x 4 = 4\n",
      "1 x 5 = 5\n",
      "1 x 6 = 6\n",
      "1 x 7 = 7\n",
      "1 x 8 = 8\n",
      "1 x 9 = 9\n",
      "1 x 10 = 10\n"
     ]
    }
   ],
   "source": [
    "multi_table_v2(1 , 10)"
   ]
  },
  {
   "cell_type": "markdown",
   "metadata": {},
   "source": [
    "## 3. Cambio de unidades. "
   ]
  },
  {
   "cell_type": "markdown",
   "metadata": {},
   "source": [
    "Del mismo modo podemos elaborar un programa que nos ralice un cambio de unidades, como por ejemplo, de grados Celsius a grados Kelvin. "
   ]
  },
  {
   "cell_type": "code",
   "execution_count": 26,
   "metadata": {
    "collapsed": false
   },
   "outputs": [
    {
     "name": "stdout",
     "output_type": "stream",
     "text": [
      " 1. De Celsius a Kelvin \n",
      " 2. De Kelvin a Celsius \n",
      " ¿Qué quieres hacer?: 1\n",
      " Introduce la temperatura en Celsius: 0\n",
      " Temperatura en grados kelvin: 273.150000\n"
     ]
    }
   ],
   "source": [
    "def menu():\n",
    "    print ' 1. De Celsius a Kelvin '\n",
    "    print ' 2. De Kelvin a Celsius '\n",
    "    \n",
    "def Celsius_a_Kelvin(): \n",
    "    \n",
    "    C = float( input( ' Introduce la temperatura en Celsius: ')) \n",
    "    K = C + 273.15 \n",
    "    \n",
    "    print ' Temperatura en grados kelvin: {0:2f}'.format(K) \n",
    "    \n",
    "def Kelvin_a_Celsius(): \n",
    "    \n",
    "    K = float( input( ' Introduce la temperatura en Kelvin: '))\n",
    "    C = K - 273.15 \n",
    "    \n",
    "    print ' Temperatura en grados Celsius: {0:2f}'.format(C)\n",
    "    \n",
    "if __name__ == '__main__' :\n",
    "    \n",
    "    menu()\n",
    "    \n",
    "    Escoja = input( ' ¿Qué quieres hacer?: ')\n",
    "    \n",
    "    if Escoja == 1 : \n",
    "        \n",
    "        Celsius_a_Kelvin() \n",
    "        \n",
    "    if Escoja == 2 : \n",
    "        \n",
    "        Kelvin_a_Celsius() "
   ]
  },
  {
   "cell_type": "markdown",
   "metadata": {},
   "source": [
    "## 4. Resolviendo ecuaciones con Python "
   ]
  },
  {
   "cell_type": "markdown",
   "metadata": {},
   "source": [
    "Existe una variedad de maneras para resolver ecuaciones en Python. Una de ellas es implementar un programa que relice todas las operaciones, como si resolvieramos la ecuación a mano: "
   ]
  },
  {
   "cell_type": "code",
   "execution_count": 27,
   "metadata": {
    "collapsed": false
   },
   "outputs": [
    {
     "name": "stdout",
     "output_type": "stream",
     "text": [
      " ax^\" + bx + c = 0 \n",
      "Introduce el valor de a:  1\n",
      "Introduce el valor de b:  2\n",
      "Introduce el valor de c:  1\n",
      "raíz 1 --> x_1 = -1.00\n",
      "raíz 2 --Z x_2 = -1.00\n"
     ]
    }
   ],
   "source": [
    "def raiz( a , b , c):\n",
    "    \n",
    "    D = ( b ** 2 - 4 * a * c ) ** 0.5 \n",
    "    \n",
    "    x1 = ( - b + D ) / ( 2 * a ) \n",
    "    x2 = ( - b - D ) / ( 2 * a ) \n",
    "    \n",
    "    print 'raíz 1 --> x_1 = {0:.2f}'.format(x1) \n",
    "    print 'raíz 2 --Z x_2 = {0:.2f}'.format(x2) \n",
    "\n",
    "    return x1 , x2 \n",
    "\n",
    "if __name__ == '__main__' : \n",
    "    \n",
    "    print ' ax^\" + bx + c = 0 '\n",
    "    \n",
    "    a = input('Introduce el valor de a:  ')\n",
    "    b = input('Introduce el valor de b:  ')\n",
    "    c = input('Introduce el valor de c:  ') \n",
    "    \n",
    "    [x1 , x2] = raiz(a , b , c)"
   ]
  },
  {
   "cell_type": "code",
   "execution_count": 28,
   "metadata": {
    "collapsed": false
   },
   "outputs": [
    {
     "name": "stdout",
     "output_type": "stream",
     "text": [
      " ax^\" + bx + c = 0 \n",
      "Introduce el valor de a:  1\n",
      "Introduce el valor de b:  1\n",
      "Introduce el valor de c:  1\n",
      " La ecuación tiene raíces complejas, no la puedo resolver\n"
     ]
    }
   ],
   "source": [
    "def raiz( a , b , c):\n",
    "    \n",
    "    D = ( b ** 2 - 4 * a * c ) ** 0.5 \n",
    "    \n",
    "    x1 = ( - b + D ) / ( 2 * a ) \n",
    "    x2 = ( - b - D ) / ( 2 * a ) \n",
    "    \n",
    "    print ('raíz 1 --> x_1 = {0:.2f}').format(x1) \n",
    "    print ('raíz 2 --Z x_2 = {0:.2f}').format(x2) \n",
    "\n",
    "    return x1 , x2 \n",
    "\n",
    "if __name__ == '__main__' : \n",
    "    \n",
    "    print (' ax^\" + bx + c = 0 ')\n",
    "    \n",
    "    a = input('Introduce el valor de a:  ')\n",
    "    b = input('Introduce el valor de b:  ')\n",
    "    c = input('Introduce el valor de c:  ') \n",
    "    \n",
    "    try: \n",
    "        [x1 , x2] = raiz(a , b , c)\n",
    "        \n",
    "    except ValueError:\n",
    "        print (' La ecuación tiene raíces complejas, no la puedo resolver')"
   ]
  },
  {
   "cell_type": "markdown",
   "metadata": {},
   "source": [
    "Otra opción para resolver ecuaciones es utilizando el cálculo simbólico con SymPy:"
   ]
  },
  {
   "cell_type": "code",
   "execution_count": 29,
   "metadata": {
    "collapsed": true
   },
   "outputs": [],
   "source": [
    "from sympy import Symbol , solve "
   ]
  },
  {
   "cell_type": "code",
   "execution_count": 30,
   "metadata": {
    "collapsed": true
   },
   "outputs": [],
   "source": [
    "a = Symbol( 'a' ) "
   ]
  },
  {
   "cell_type": "code",
   "execution_count": 31,
   "metadata": {
    "collapsed": false
   },
   "outputs": [
    {
     "data": {
      "text/plain": [
       "sympy.core.symbol.Symbol"
      ]
     },
     "execution_count": 31,
     "metadata": {},
     "output_type": "execute_result"
    }
   ],
   "source": [
    "type(a)"
   ]
  },
  {
   "cell_type": "code",
   "execution_count": 32,
   "metadata": {
    "collapsed": true
   },
   "outputs": [],
   "source": [
    "expresion = a - 5 "
   ]
  },
  {
   "cell_type": "code",
   "execution_count": 33,
   "metadata": {
    "collapsed": false
   },
   "outputs": [
    {
     "data": {
      "text/plain": [
       "[5]"
      ]
     },
     "execution_count": 33,
     "metadata": {},
     "output_type": "execute_result"
    }
   ],
   "source": [
    "solve(expresion)"
   ]
  },
  {
   "cell_type": "markdown",
   "metadata": {},
   "source": [
    "Podemos resolver también ecuaciones cuadráticas, como la vista al comienzo del apartado:"
   ]
  },
  {
   "cell_type": "code",
   "execution_count": 34,
   "metadata": {
    "collapsed": true
   },
   "outputs": [],
   "source": [
    "x = Symbol ( 'x' )"
   ]
  },
  {
   "cell_type": "code",
   "execution_count": 35,
   "metadata": {
    "collapsed": true
   },
   "outputs": [],
   "source": [
    "ecuacion = x**2 + 5*x + 4 "
   ]
  },
  {
   "cell_type": "code",
   "execution_count": 36,
   "metadata": {
    "collapsed": false
   },
   "outputs": [
    {
     "data": {
      "text/plain": [
       "[-4, -1]"
      ]
     },
     "execution_count": 36,
     "metadata": {},
     "output_type": "execute_result"
    }
   ],
   "source": [
    "solve(ecuacion)"
   ]
  },
  {
   "cell_type": "markdown",
   "metadata": {},
   "source": [
    "En este caso si podemos obtener la solución en números complejos: "
   ]
  },
  {
   "cell_type": "code",
   "execution_count": 37,
   "metadata": {
    "collapsed": true
   },
   "outputs": [],
   "source": [
    "ecuacion = x**2 + x + 1 "
   ]
  },
  {
   "cell_type": "code",
   "execution_count": 38,
   "metadata": {
    "collapsed": false
   },
   "outputs": [
    {
     "data": {
      "text/plain": [
       "[-1/2 - sqrt(3)*I/2, -1/2 + sqrt(3)*I/2]"
      ]
     },
     "execution_count": 38,
     "metadata": {},
     "output_type": "execute_result"
    }
   ],
   "source": [
    "solve(ecuacion)"
   ]
  },
  {
   "cell_type": "markdown",
   "metadata": {},
   "source": [
    "Se pueden resolver incluso sistemas de ecuaciones:"
   ]
  },
  {
   "cell_type": "code",
   "execution_count": 39,
   "metadata": {
    "collapsed": false
   },
   "outputs": [],
   "source": [
    "y = Symbol ( 'y' )\n",
    "z = Symbol ( 'z' )"
   ]
  },
  {
   "cell_type": "code",
   "execution_count": 40,
   "metadata": {
    "collapsed": true
   },
   "outputs": [],
   "source": [
    "ecuacion1 = 2*x + 3*y - z + 6"
   ]
  },
  {
   "cell_type": "code",
   "execution_count": 41,
   "metadata": {
    "collapsed": false
   },
   "outputs": [],
   "source": [
    "ecuacion2 = 3*x + 2*y -12 "
   ]
  },
  {
   "cell_type": "code",
   "execution_count": 42,
   "metadata": {
    "collapsed": true
   },
   "outputs": [],
   "source": [
    "ecuacion3 = z - 5 "
   ]
  },
  {
   "cell_type": "code",
   "execution_count": 43,
   "metadata": {
    "collapsed": false
   },
   "outputs": [
    {
     "data": {
      "text/plain": [
       "[{x: 38/5, z: 5, y: -27/5}]"
      ]
     },
     "execution_count": 43,
     "metadata": {},
     "output_type": "execute_result"
    }
   ],
   "source": [
    "solve((ecuacion1 , ecuacion2, ecuacion3), dict = True ) "
   ]
  },
  {
   "cell_type": "code",
   "execution_count": 44,
   "metadata": {
    "collapsed": false
   },
   "outputs": [
    {
     "name": "stdout",
     "output_type": "stream",
     "text": [
      "IPython console for SymPy 1.0 (Python 2.7.12-64-bit) (ground types: python)\n",
      "\n",
      "These commands were executed:\n",
      ">>> from __future__ import division\n",
      ">>> from sympy import *\n",
      ">>> x, y, z, t = symbols('x y z t')\n",
      ">>> k, m, n = symbols('k m n', integer=True)\n",
      ">>> f, g, h = symbols('f g h', cls=Function)\n",
      ">>> init_printing()\n",
      "\n",
      "Documentation can be found at http://docs.sympy.org/1.0/\n"
     ]
    }
   ],
   "source": [
    "import sympy as sy\n",
    "from sympy import init_session\n",
    "init_session(use_latex=True)"
   ]
  },
  {
   "cell_type": "code",
   "execution_count": 45,
   "metadata": {
    "collapsed": false
   },
   "outputs": [],
   "source": [
    "f = sy.sqrt( 1 - (abs(x) - 1) ** 2)\n",
    "g = acos(1 - abs(x)) - pi "
   ]
  },
  {
   "cell_type": "code",
   "execution_count": 46,
   "metadata": {
    "collapsed": false
   },
   "outputs": [],
   "source": [
    "p1 = plot(f ,(x , -2 , 2) , show = False , line_color= 'r')\n",
    "p2 = plot(g ,(x , -2 , 2) , show = False , line_color= 'r')\n",
    "p1.extend(p2)\n",
    "p1.show()"
   ]
  },
  {
   "cell_type": "code",
   "execution_count": 47,
   "metadata": {
    "collapsed": false
   },
   "outputs": [],
   "source": [
    "from sympy.plotting import plot3d\n",
    "a = x**3 + y**3\n",
    "b = plot3d(a)\n",
    "b.show() "
   ]
  },
  {
   "cell_type": "markdown",
   "metadata": {},
   "source": [
    "## 5. Ecuaciones diferenciales (Pyomo)"
   ]
  },
  {
   "cell_type": "markdown",
   "metadata": {},
   "source": [
    "** Ecuación del calor **"
   ]
  },
  {
   "cell_type": "markdown",
   "metadata": {},
   "source": [
    "$$ \\pi ^2 \\frac{\\partial T}{\\partial t} = \\frac{\\partial^2 T}{\\partial t^2} $$\n",
    "\n",
    "Condiciones iniciales:\n",
    "\n",
    "$$ T(x,0) = sin(\\pi x) $$\n",
    "\n",
    "Contorno:\n",
    "\n",
    "$$ T(0,t) = 0 $$\n",
    "\n",
    "$$ \\pi e^{-t}+\\frac{\\partial T}{\\partial t}(L,t) = 0 $$\n",
    "\n",
    "$$ 0 \\leq t \\leq 2 $$\n",
    "\n",
    "$$ 0 \\leq l \\leq L=1 $$"
   ]
  },
  {
   "cell_type": "code",
   "execution_count": 48,
   "metadata": {
    "collapsed": false
   },
   "outputs": [],
   "source": [
    "# Required imports\n",
    "from pyomo.environ import *\n",
    "from pyomo.dae import *\n",
    "from pyomo.dae.plugins.finitedifference import Finite_Difference_Transformation\n",
    "\n",
    "m = ConcreteModel()\n",
    "\n",
    "m.pi = Param(initialize=3.1416)\n",
    "\n",
    "#variables del problema\n",
    "m.t = ContinuousSet(bounds=(0, 2))\n",
    "m.x = ContinuousSet(bounds=(0, 1))\n",
    "m.u = Var(m.x, m.t)\n",
    "\n",
    "#variables derivadas respecto a las variables independientes x t\n",
    "m.dudx  = DerivativeVar(m.u, wrt=m.x)\n",
    "m.dudx2 = DerivativeVar(m.u, wrt=(m.x,m.x))\n",
    "m.dudt  = DerivativeVar(m.u, wrt=m.t)\n"
   ]
  },
  {
   "cell_type": "markdown",
   "metadata": {},
   "source": [
    "$$ \\pi ^2 \\frac{\\partial T}{\\partial t} = \\frac{\\partial^2 T}{\\partial t^2} $$"
   ]
  },
  {
   "cell_type": "code",
   "execution_count": 49,
   "metadata": {
    "collapsed": true
   },
   "outputs": [],
   "source": [
    "def _pde(m, i, j):\n",
    "    if i == 0 or i == 1 or j == 0:\n",
    "        return Constraint.Skip\n",
    "    return m.pi**2*m.dudt[i,j] == m.dudx2[i,j]\n",
    "m.pde = Constraint(m.x, m.t, rule=_pde)\n"
   ]
  },
  {
   "cell_type": "markdown",
   "metadata": {},
   "source": [
    "$$ T(x,0) = sin(\\pi x) $$"
   ]
  },
  {
   "cell_type": "code",
   "execution_count": 50,
   "metadata": {
    "collapsed": true
   },
   "outputs": [],
   "source": [
    "def _initcon(m, i):\n",
    "    if i == 0 or i == 1:\n",
    "        return Constraint.Skip\n",
    "    return m.u[i,0] == sin(m.pi*i)\n",
    "m.initcon = Constraint(m.x,  rule=_initcon)\n"
   ]
  },
  {
   "cell_type": "markdown",
   "metadata": {},
   "source": [
    "$$ T(0,t) = 0 $$\n",
    "\n",
    "$$ \\pi e^{-t}+\\frac{\\partial T}{\\partial t}(L,t) = 0 $$"
   ]
  },
  {
   "cell_type": "code",
   "execution_count": 51,
   "metadata": {
    "collapsed": true
   },
   "outputs": [],
   "source": [
    "def _lowerbound(m, j):\n",
    "    return m.u[0,j] == 0\n",
    "m.lowerbound = Constraint(m.t, rule=_lowerbound)\n",
    "\n",
    "def _upperbound(m, j):\n",
    "    return m.pi*exp(-j)+m.dudx[1,j] == 0\n",
    "m.upperbound = Constraint(m.t, rule=_upperbound)"
   ]
  },
  {
   "cell_type": "markdown",
   "metadata": {},
   "source": [
    "**Función objetivo**"
   ]
  },
  {
   "cell_type": "code",
   "execution_count": 52,
   "metadata": {
    "collapsed": true
   },
   "outputs": [],
   "source": [
    "m.obj = Objective(expr=1)"
   ]
  },
  {
   "cell_type": "markdown",
   "metadata": {},
   "source": [
    "$$ 0 \\leq t \\leq 2 $$\n",
    "\n",
    "$$ 0 \\leq l \\leq L=1 $$"
   ]
  },
  {
   "cell_type": "code",
   "execution_count": 53,
   "metadata": {
    "collapsed": true
   },
   "outputs": [],
   "source": [
    "Nx = 60 #puntos de la coordenada espacial x\n",
    "Nt = 25 #puntos de la coordenada temporal t\n",
    "\n",
    "#discretizar puntos\n",
    "discretize = Finite_Difference_Transformation()\n",
    "disc = discretize.apply(m,nfe=Nx,wrt=m.x,scheme='BACKWARD')\n",
    "disc = discretize.apply(m,nfe=Nt,wrt=m.t,scheme='BACKWARD')\n"
   ]
  },
  {
   "cell_type": "markdown",
   "metadata": {},
   "source": [
    "**Resolver**"
   ]
  },
  {
   "cell_type": "code",
   "execution_count": 54,
   "metadata": {
    "collapsed": false
   },
   "outputs": [
    {
     "name": "stdout",
     "output_type": "stream",
     "text": [
      "\n",
      "\n",
      "******************************************************************************\n",
      "This program contains Ipopt, a library for large-scale nonlinear optimization.\n",
      " Ipopt is released as open source code under the Eclipse Public License (EPL).\n",
      "         For more information visit http://projects.coin-or.org/Ipopt\n",
      "******************************************************************************\n",
      "\n",
      "This is Ipopt version 3.12.4, running with linear solver mumps.\n",
      "NOTE: Other linear solvers might be more efficient (see Ipopt documentation).\n",
      "\n",
      "Number of nonzeros in equality constraint Jacobian...:    18452\n",
      "Number of nonzeros in inequality constraint Jacobian.:        0\n",
      "Number of nonzeros in Lagrangian Hessian.............:        0\n",
      "\n",
      "Total number of variables............................:     6230\n",
      "                     variables with only lower bounds:        0\n",
      "                variables with lower and upper bounds:        0\n",
      "                     variables with only upper bounds:        0\n",
      "Total number of equality constraints.................:     6205\n",
      "Total number of inequality constraints...............:        0\n",
      "        inequality constraints with only lower bounds:        0\n",
      "   inequality constraints with lower and upper bounds:        0\n",
      "        inequality constraints with only upper bounds:        0\n",
      "\n",
      "iter    objective    inf_pr   inf_du lg(mu)  ||d||  lg(rg) alpha_du alpha_pr  ls\n",
      "   0  1.0000000e+00 3.14e+00 0.00e+00  -1.0 0.00e+00    -  0.00e+00 0.00e+00   0\n",
      "   1  1.0000000e+00 2.88e-08 9.87e-04  -1.0 9.87e+00  -4.0 1.00e+00 1.00e+00h  1\n",
      "   2  1.0000000e+00 1.88e-09 1.78e-10  -5.7 5.35e-06  -4.5 1.00e+00 1.00e+00h  1\n",
      "\n",
      "Number of Iterations....: 2\n",
      "\n",
      "                                   (scaled)                 (unscaled)\n",
      "Objective...............:   1.0000000000000000e+00    1.0000000000000000e+00\n",
      "Dual infeasibility......:   1.7824049407687482e-10    1.7824049407687482e-10\n",
      "Constraint violation....:   8.4775575448503560e-11    1.8844712457166679e-09\n",
      "Complementarity.........:   0.0000000000000000e+00    0.0000000000000000e+00\n",
      "Overall NLP error.......:   1.7824049407687482e-10    1.8844712457166679e-09\n",
      "\n",
      "\n",
      "Number of objective function evaluations             = 3\n",
      "Number of objective gradient evaluations             = 3\n",
      "Number of equality constraint evaluations            = 3\n",
      "Number of inequality constraint evaluations          = 0\n",
      "Number of equality constraint Jacobian evaluations   = 3\n",
      "Number of inequality constraint Jacobian evaluations = 0\n",
      "Number of Lagrangian Hessian evaluations             = 2\n",
      "Total CPU secs in IPOPT (w/o function evaluations)   =      0.232\n",
      "Total CPU secs in NLP function evaluations           =      0.000\n",
      "\n",
      "EXIT: Optimal Solution Found.\n",
      " \n",
      "Ipopt 3.12.4: Optimal Solution Found\n"
     ]
    }
   ],
   "source": [
    "solver = SolverFactory('ipopt')\n",
    "results = solver.solve(m, tee=True)"
   ]
  },
  {
   "cell_type": "markdown",
   "metadata": {},
   "source": [
    "**Representación de la solución**"
   ]
  },
  {
   "cell_type": "code",
   "execution_count": 55,
   "metadata": {
    "collapsed": false
   },
   "outputs": [],
   "source": [
    "import numpy as np\n",
    "\n",
    "x = sorted(disc.x)\n",
    "t = sorted(disc.t)\n",
    "u = sorted(disc.u)\n",
    "\n",
    "U = np.zeros((Nx+1, Nt+1))\n",
    "for i in range(Nx+1):\n",
    "    ix = x[i]\n",
    "    for j in range(Nt+1):\n",
    "        it = t[j]\n",
    "        U[i,j] = value(disc.u[ix,it])\n",
    "#representacion grafica\n",
    "from mpl_toolkits.mplot3d.axes3d import Axes3D\n",
    "import matplotlib.pyplot as plt\n",
    "\n",
    "from matplotlib import cm\n",
    "\n",
    "fig = plt.figure(figsize=plt.figaspect(0.5))\n",
    "\n",
    "ax = fig.add_subplot(1, 2, 1, projection='3d')\n",
    "tt, xx = np.meshgrid(t, x)\n",
    "#figura 1\n",
    "surf = ax.plot_surface(xx, tt, U, rstride=1, cstride=1, cmap=cm.coolwarm,\n",
    "                       linewidth=0, antialiased=False)\n",
    "ax.set_zlim3d(0, 1.01)\n",
    "fig.colorbar(surf, shrink=0.5, aspect=5)\n",
    "ax.set_xlabel('x')\n",
    "ax.set_ylabel('t')\n",
    "ax.set_zlabel('u')\n",
    "# figura 2\n",
    "ax = fig.add_subplot(1, 2, 2, projection='3d')\n",
    "ax.plot_wireframe(xx, tt, U)\n",
    "ax.set_zlim3d(0, 1.01)\n",
    "ax.set_xlabel('x')\n",
    "ax.set_ylabel('t')\n",
    "ax.set_zlabel('u')\n",
    "plt.show()"
   ]
  },
  {
   "cell_type": "markdown",
   "metadata": {},
   "source": [
    "**Ecuaciones de ondas**"
   ]
  },
  {
   "cell_type": "markdown",
   "metadata": {},
   "source": [
    "$$ 2^2 \\frac{\\partial^2 u}{\\partial x^2} = \\frac{\\partial^2 u}{\\partial t^2} $$\n",
    "\n",
    "Condiciones iniciales:\n",
    "\n",
    "$$ u(x,0) = sin(\\pi x)+sin(2\\pi x) $$\n",
    "\n",
    "Contorno:\n",
    "\n",
    "$$ u(0,y) = 0 $$\n",
    "\n",
    "$$ u(L,t) = 0 $$\n",
    "\n",
    "$$ 0 \\leq t \\leq 5 $$\n",
    "\n",
    "$$ 0 \\leq l \\leq L = 1 $$"
   ]
  },
  {
   "cell_type": "code",
   "execution_count": 56,
   "metadata": {
    "collapsed": false
   },
   "outputs": [
    {
     "name": "stdout",
     "output_type": "stream",
     "text": [
      "\n",
      "\n",
      "******************************************************************************\n",
      "This program contains Ipopt, a library for large-scale nonlinear optimization.\n",
      " Ipopt is released as open source code under the Eclipse Public License (EPL).\n",
      "         For more information visit http://projects.coin-or.org/Ipopt\n",
      "******************************************************************************\n",
      "\n",
      "This is Ipopt version 3.12.4, running with linear solver mumps.\n",
      "NOTE: Other linear solvers might be more efficient (see Ipopt documentation).\n",
      "\n",
      "Number of nonzeros in equality constraint Jacobian...:    36053\n",
      "Number of nonzeros in inequality constraint Jacobian.:        0\n",
      "Number of nonzeros in Lagrangian Hessian.............:        0\n",
      "\n",
      "Total number of variables............................:    11038\n",
      "                     variables with only lower bounds:        0\n",
      "                variables with lower and upper bounds:        0\n",
      "                     variables with only upper bounds:        0\n",
      "Total number of equality constraints.................:    10919\n",
      "Total number of inequality constraints...............:        0\n",
      "        inequality constraints with only lower bounds:        0\n",
      "   inequality constraints with lower and upper bounds:        0\n",
      "        inequality constraints with only upper bounds:        0\n",
      "\n",
      "iter    objective    inf_pr   inf_du lg(mu)  ||d||  lg(rg) alpha_du alpha_pr  ls\n",
      "   0  1.0000000e+00 1.76e+00 0.00e+00  -1.0 0.00e+00    -  0.00e+00 0.00e+00   0\n",
      "   1  1.0000000e+00 2.92e-12 1.73e+00  -1.0 1.73e+02  -2.0 1.00e+00 1.00e+00h  1\n",
      "   2  1.0000000e+00 2.48e-12 1.44e-07  -1.0 3.29e-09  -2.5 1.00e+00 1.00e+00h  1\n",
      "   3  1.0000000e+00 1.99e-12 1.37e-15  -8.6 3.69e-12  -3.4 1.00e+00 1.00e+00h  1\n",
      "\n",
      "Number of Iterations....: 3\n",
      "\n",
      "                                   (scaled)                 (unscaled)\n",
      "Objective...............:   1.0000000000000000e+00    1.0000000000000000e+00\n",
      "Dual infeasibility......:   1.3667691456023591e-15    1.3667691456023591e-15\n",
      "Constraint violation....:   2.7631664835325865e-14    1.9895196601282805e-12\n",
      "Complementarity.........:   0.0000000000000000e+00    0.0000000000000000e+00\n",
      "Overall NLP error.......:   2.7631664835325865e-14    1.9895196601282805e-12\n",
      "\n",
      "\n",
      "Number of objective function evaluations             = 4\n",
      "Number of objective gradient evaluations             = 4\n",
      "Number of equality constraint evaluations            = 4\n",
      "Number of inequality constraint evaluations          = 0\n",
      "Number of equality constraint Jacobian evaluations   = 4\n",
      "Number of inequality constraint Jacobian evaluations = 0\n",
      "Number of Lagrangian Hessian evaluations             = 3\n",
      "Total CPU secs in IPOPT (w/o function evaluations)   =      0.684\n",
      "Total CPU secs in NLP function evaluations           =      0.000\n",
      "\n",
      "EXIT: Optimal Solution Found.\n",
      " \n",
      "Ipopt 3.12.4: Optimal Solution Found\n"
     ]
    }
   ],
   "source": [
    "! python ondas.py"
   ]
  },
  {
   "cell_type": "code",
   "execution_count": null,
   "metadata": {
    "collapsed": false
   },
   "outputs": [
    {
     "name": "stdout",
     "output_type": "stream",
     "text": [
      "\n",
      "\n",
      "******************************************************************************\n",
      "This program contains Ipopt, a library for large-scale nonlinear optimization.\n",
      " Ipopt is released as open source code under the Eclipse Public License (EPL).\n",
      "         For more information visit http://projects.coin-or.org/Ipopt\n",
      "******************************************************************************\n",
      "\n",
      "This is Ipopt version 3.12.4, running with linear solver mumps.\n",
      "NOTE: Other linear solvers might be more efficient (see Ipopt documentation).\n",
      "\n",
      "Number of nonzeros in equality constraint Jacobian...:   108053\n",
      "Number of nonzeros in inequality constraint Jacobian.:        0\n",
      "Number of nonzeros in Lagrangian Hessian.............:        0\n",
      "\n",
      "Total number of variables............................:    32878\n",
      "                     variables with only lower bounds:        0\n",
      "                variables with lower and upper bounds:        0\n",
      "                     variables with only upper bounds:        0\n",
      "Total number of equality constraints.................:    32639\n",
      "Total number of inequality constraints...............:        0\n",
      "        inequality constraints with only lower bounds:        0\n",
      "   inequality constraints with lower and upper bounds:        0\n",
      "        inequality constraints with only upper bounds:        0\n",
      "\n",
      "iter    objective    inf_pr   inf_du lg(mu)  ||d||  lg(rg) alpha_du alpha_pr  ls\n",
      "   0  1.0000000e+00 1.76e+00 0.00e+00  -1.0 0.00e+00    -  0.00e+00 0.00e+00   0\n",
      "   1  1.0000000e+00 2.70e-12 1.56e+00  -1.0 1.56e+02  -2.0 1.00e+00 1.00e+00h  1\n",
      "   2  1.0000000e+00 1.77e-12 2.61e-07  -1.0 1.17e-08  -2.5 1.00e+00 1.00e+00h  1\n",
      "   3  1.0000000e+00 2.09e-12 2.68e-15  -8.6 2.41e-12  -3.0 1.00e+00 1.00e+00h  1\n",
      "\n",
      "Number of Iterations....: 3\n",
      "\n",
      "                                   (scaled)                 (unscaled)\n",
      "Objective...............:   1.0000000000000000e+00    1.0000000000000000e+00\n",
      "Dual infeasibility......:   2.6778015579598826e-15    2.6778015579598826e-15\n",
      "Constraint violation....:   2.9062590335726667e-14    2.0925483568134950e-12\n",
      "Complementarity.........:   0.0000000000000000e+00    0.0000000000000000e+00\n",
      "Overall NLP error.......:   2.9062590335726667e-14    2.0925483568134950e-12\n",
      "\n",
      "\n",
      "Number of objective function evaluations             = 4\n",
      "Number of objective gradient evaluations             = 4\n",
      "Number of equality constraint evaluations            = 4\n",
      "Number of inequality constraint evaluations          = 0\n",
      "Number of equality constraint Jacobian evaluations   = 4\n",
      "Number of inequality constraint Jacobian evaluations = 0\n",
      "Number of Lagrangian Hessian evaluations             = 3\n",
      "Total CPU secs in IPOPT (w/o function evaluations)   =      4.576\n",
      "Total CPU secs in NLP function evaluations           =      0.012\n",
      "\n",
      "EXIT: Optimal Solution Found.\n",
      " \n",
      "Ipopt 3.12.4: Optimal Solution Found\n"
     ]
    }
   ],
   "source": [
    "! python ondasAnimate.py"
   ]
  },
  {
   "cell_type": "code",
   "execution_count": null,
   "metadata": {
    "collapsed": true
   },
   "outputs": [],
   "source": []
  }
 ],
 "metadata": {
  "kernelspec": {
   "display_name": "Python [py27]",
   "language": "python",
   "name": "Python [py27]"
  },
  "language_info": {
   "codemirror_mode": {
    "name": "ipython",
    "version": 2
   },
   "file_extension": ".py",
   "mimetype": "text/x-python",
   "name": "python",
   "nbconvert_exporter": "python",
   "pygments_lexer": "ipython2",
   "version": "2.7.12"
  }
 },
 "nbformat": 4,
 "nbformat_minor": 0
}
